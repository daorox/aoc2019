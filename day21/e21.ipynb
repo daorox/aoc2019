{
 "nbformat": 4,
 "nbformat_minor": 2,
 "metadata": {
  "language_info": {
   "name": "python",
   "codemirror_mode": {
    "name": "ipython",
    "version": 3
   },
   "version": "3.7.3"
  },
  "orig_nbformat": 2,
  "file_extension": ".py",
  "mimetype": "text/x-python",
  "name": "python",
  "npconvert_exporter": "python",
  "pygments_lexer": "ipython3",
  "version": 3
 },
 "cells": [
  {
   "cell_type": "markdown",
   "execution_count": 1,
   "metadata": {},
   "outputs": [],
   "source": [
    "# Day 21: Springdroid Adventure\n",
    "In this assignment a simple assembly language is used to command a bot to jump whenever danger is detected ahead. The language uses two registers, T and J, three instructions (AND, NOT, OR) and a number of read only inputs A..D."
   ]
  },
  {
   "cell_type": "markdown",
   "execution_count": 3,
   "metadata": {},
   "outputs": [],
   "source": [
    "Get the data"
   ]
  },
  {
   "cell_type": "code",
   "execution_count": 22,
   "metadata": {},
   "outputs": [],
   "source": [
    "from computer import Computer\n",
    "with open(\"e21.txt\") as f:\n",
    "    data = list(map(int, f.read().split(\",\")))\n"
   ]
  },
  {
   "cell_type": "markdown",
   "execution_count": 1,
   "metadata": {},
   "outputs": [
    {
     "name": "stdout",
     "output_type": "stream",
     "text": "/home/zzz/aoc2019/day21\n"
    }
   ],
   "source": [
    "Since the computer requires ascii inputs we need to translate the assembly commands before they can be used"
   ]
  },
  {
   "cell_type": "code",
   "execution_count": 23,
   "metadata": {},
   "outputs": [
    {
     "data": {
      "text/plain": "[78, 79, 84, 32, 65, 32, 74, 10, 87, 65, 76, 75, 10]"
     },
     "execution_count": 23,
     "metadata": {},
     "output_type": "execute_result"
    }
   ],
   "source": [
    "def to_ascii(lsts):\n",
    "    return [ord(c) for lst in lsts for c in lst + '\\n']\n",
    "to_ascii(['NOT A J','WALK'])"
   ]
  },
  {
   "cell_type": "markdown",
   "execution_count": 16,
   "metadata": {},
   "outputs": [
    {
     "ename": "SyntaxError",
     "evalue": "invalid syntax (<ipython-input-16-cf709af192eb>, line 1)",
     "output_type": "error",
     "traceback": [
      "\u001b[0;36m  File \u001b[0;32m\"<ipython-input-16-cf709af192eb>\"\u001b[0;36m, line \u001b[0;32m1\u001b[0m\n\u001b[0;31m    We also need to be able to parse the output of the computer, which are plain characters unless we get the big number\u001b[0m\n\u001b[0m          ^\u001b[0m\n\u001b[0;31mSyntaxError\u001b[0m\u001b[0;31m:\u001b[0m invalid syntax\n"
     ]
    }
   ],
   "source": [
    "We also need to be able to parse the output of the computer, which are plain characters unless we get the big number"
   ]
  },
  {
   "cell_type": "code",
   "execution_count": 24,
   "metadata": {},
   "outputs": [],
   "source": [
    "def run_cmds(cmds):\n",
    "    for x in Computer(data).run(cmds):\n",
    "        try:\n",
    "            print(chr(x),end='')\n",
    "        except ValueError:\n",
    "            print(x)"
   ]
  },
  {
   "cell_type": "markdown",
   "execution_count": null,
   "metadata": {},
   "outputs": [],
   "source": [
    "Testing the first example"
   ]
  },
  {
   "cell_type": "code",
   "execution_count": 25,
   "metadata": {},
   "outputs": [
    {
     "name": "stdout",
     "output_type": "stream",
     "text": "Input instructions:\n\nWalking...\n\n\nDidn't make it across:\n\n.................\n.................\n@................\n#####..#.########\n\n.................\n.................\n.@...............\n#####..#.########\n\n.................\n.................\n..@..............\n#####..#.########\n\n.................\n.................\n...@.............\n#####..#.########\n\n.................\n.................\n....@............\n#####..#.########\n\n.................\n.....@...........\n.................\n#####..#.########\n\n......@..........\n.................\n.................\n#####..#.########\n\n.................\n.......@.........\n.................\n#####..#.########\n\n.................\n.................\n........@........\n#####..#.########\n\n.................\n.................\n.................\n#####..#@########\n\n"
    }
   ],
   "source": [
    "run_cmds(to_ascii(['NOT A J','WALK']))"
   ]
  },
  {
   "cell_type": "markdown",
   "execution_count": null,
   "metadata": {},
   "outputs": [],
   "source": [
    "The robot realizes that the next tile is empty and thus jumps, landing 4 tiles forward on yet another empty tile."
   ]
  },
  {
   "cell_type": "markdown",
   "execution_count": null,
   "metadata": {},
   "outputs": [],
   "source": [
    "Since we are jumping 4 tiles, we need to ensure that the 4th tile is solid. As for when to jump, it should be sufficient to check whether there is a hole within the jumping distance."
   ]
  },
  {
   "cell_type": "code",
   "execution_count": 26,
   "metadata": {},
   "outputs": [
    {
     "name": "stdout",
     "output_type": "stream",
     "text": "Input instructions:\n\nWalking...\n\n19361023\n"
    }
   ],
   "source": [
    "cmds = ['NOT A J', 'NOT B T','OR T J', 'NOT C T', 'OR T J', 'AND D J',\n",
    "'WALK']\n",
    "run_cmds(to_ascii(cmds))"
   ]
  },
  {
   "cell_type": "markdown",
   "execution_count": null,
   "metadata": {},
   "outputs": [],
   "source": [
    "It worked! In part B, we are able to get inputs from tiles even further away. Let's see how the current solution fails in this new scenario."
   ]
  },
  {
   "cell_type": "code",
   "execution_count": 27,
   "metadata": {},
   "outputs": [
    {
     "name": "stdout",
     "output_type": "stream",
     "text": "Input instructions:\n\nRunning...\n\n\nDidn't make it across:\n\n.................\n.................\n@................\n#####.#.#...#.###\n\n.................\n.................\n.@...............\n#####.#.#...#.###\n\n.................\n.................\n..@..............\n#####.#.#...#.###\n\n.................\n...@.............\n.................\n#####.#.#...#.###\n\n....@............\n.................\n.................\n#####.#.#...#.###\n\n.................\n.....@...........\n.................\n#####.#.#...#.###\n\n.................\n.................\n......@..........\n#####.#.#...#.###\n\n.................\n.................\n.................\n#####.#@#...#.###\n\n"
    }
   ],
   "source": [
    "cmds = ['NOT A J', 'NOT B T','OR T J', 'NOT C T', 'OR T J', 'AND D J',\n",
    "'RUN']\n",
    "run_cmds(to_ascii(cmds))"
   ]
  },
  {
   "cell_type": "markdown",
   "execution_count": null,
   "metadata": {},
   "outputs": [],
   "source": [
    "The Bot is still dodging the first obstacle. However, there is nowhere safe to move or jump once it has landed. The correct move would be to jump to the second platform rather than the first. To deal with the issues shown in this particular example, we can check whether either the next tile after the jump is safe, or if we can jump yet again safely."
   ]
  },
  {
   "cell_type": "code",
   "execution_count": 28,
   "metadata": {},
   "outputs": [
    {
     "name": "stdout",
     "output_type": "stream",
     "text": "Input instructions:\n\nRunning...\n\n1141457530\n"
    }
   ],
   "source": [
    "cmds = ['NOT A J', 'NOT B T','OR T J', 'NOT C T', 'OR T J', 'AND D J', 'AND E T', 'OR H T','AND T J',\n",
    "'RUN']\n",
    "run_cmds(to_ascii(cmds))"
   ]
  },
  {
   "cell_type": "markdown",
   "execution_count": null,
   "metadata": {},
   "outputs": [],
   "source": []
  }
 ]
}